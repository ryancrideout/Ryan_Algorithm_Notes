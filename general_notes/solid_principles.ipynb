{
 "cells": [
  {
   "cell_type": "markdown",
   "id": "8aa5e85a-b487-4ca4-8c7e-ccd0434c9cd9",
   "metadata": {},
   "source": [
    "# S.O.L.I.D. Programming with Dungeons and Dragons examples\n",
    "\n",
    "This Jupyter notebook is an explanation of the S.O.L.I.D. programming principles, using Dungeons and Dragons to assist with the explanations. So with this in mind, what even ARE the S.O.L.I.D. programming principles?\n",
    "\n",
    "They are:\n",
    "\n",
    "### - Single-Responsiblity Principle\n",
    "### - Open-Closed Principle\n",
    "### - Liskov Substitution Principle\n",
    "### - Interface Segregation Principle\n",
    "### - Dependency Inversion Principle\n",
    "\n",
    "Adhering to these principles will help us write BETTER code... hopefully. Anyways let's get into this."
   ]
  },
  {
   "cell_type": "markdown",
   "id": "5d62a4be-03d2-4a59-8a71-bd64e85c642c",
   "metadata": {
    "jp-MarkdownHeadingCollapsed": true,
    "tags": []
   },
   "source": [
    "## Single-Responsiblity Principle\n",
    "> A class should have one and only one reason to change, meaning that a class should have only one job.\n",
    "\n",
    "Put in other words, this means that each piece of code - whether it be a function, class, whatever - should only have one job and one job only. Let's illustrate this with a Dungeons and Dragons code example.\n",
    "\n",
    "Consider this Goblin method:"
   ]
  },
  {
   "cell_type": "code",
   "execution_count": 1,
   "id": "1bf9f879-97a5-4cca-ac01-2bc61aa7b28e",
   "metadata": {},
   "outputs": [],
   "source": [
    "def goblin(distance, weapon, skill):\n",
    "    # Move\n",
    "    print(\"The goblin moves {} feet\".format(distance))\n",
    "    \n",
    "    # Attack\n",
    "    print(\"The goblin attacks with a {}\".format(weapon))\n",
    "    \n",
    "    # Skill check\n",
    "    print(\"The goblin rolls a {} check.\".format(skill))"
   ]
  },
  {
   "cell_type": "markdown",
   "id": "9280a445-3d40-4396-a8bd-041452d21f02",
   "metadata": {},
   "source": [
    "So at a glance this is a list of (some) things a goblin can do. The problem with this method though is that this goblin method is responsible for movement, attacking and making skill checks. That's three things! This violates the Single-Responsibility Principle - code is supposed to be responsible for one thing, not three!\n",
    "\n",
    "Let's change this into something better."
   ]
  },
  {
   "cell_type": "code",
   "execution_count": null,
   "id": "91e9371f-e18c-43e6-bf6b-477fdfafe5b2",
   "metadata": {},
   "outputs": [],
   "source": [
    "def move(distance):\n",
    "    print(\"The goblin moves {} feet\".format(distance))\n",
    "    \n",
    "def attack(weapon):\n",
    "    print(\"The goblin attacks with a {}\".format(weapon))\n",
    "    \n",
    "def skill_check(skill):\n",
    "    print(\"The goblin rolls a {} check.\".format(skill))\n",
    "\n",
    "def goblin(distance, weapon, skill):\n",
    "    # Move\n",
    "    move(distance)\n",
    "    \n",
    "    # Attack\n",
    "    attack(weapon)\n",
    "    \n",
    "    # Skill check\n",
    "    skill_check(skill)"
   ]
  },
  {
   "cell_type": "markdown",
   "id": "77c747db-a443-4832-a4e9-53b2e88aa171",
   "metadata": {},
   "source": [
    "Okay so this is better, as we've taken all of these actions out of the goblin method and given them their own functions. However, keen readers will note that we really haven't solved the problem - the goblin method is still responsible for _calling_ all of these methods, which still ends up violating the Single-Responsibility principle. \n",
    "\n",
    "Okay so... how would you about solving this FOR REAL? \n",
    "\n",
    "Here's what I might try:"
   ]
  },
  {
   "cell_type": "code",
   "execution_count": null,
   "id": "57002dbd-e7b1-49bb-9a6b-61cee94b0c95",
   "metadata": {
    "tags": []
   },
   "outputs": [],
   "source": [
    "from abc import ABC, abstractmethod\n",
    "\n",
    "class Move(ABC):\n",
    "    @abstractmethod\n",
    "    def move(distance):\n",
    "        print(\"Move {} feet\".format(distance))\n",
    "\n",
    "class Attack(ABC):\n",
    "    @abstractmethod\n",
    "    def attack(weapon):\n",
    "        print(\"Attack with a {}\".format(weapon))\n",
    "        \n",
    "class SkillCheck(ABC):\n",
    "    @abstractmethod\n",
    "    def skill_check(skill):\n",
    "        print(\"Roll a {} check\".format(skill))\n",
    "\n",
    "class Goblin(Move, Attack, SkillCheck):\n",
    "    def move(distance):\n",
    "        print(\"The goblin moves {} feet\".format(distance))\n",
    "    \n",
    "    def attack(weapon):\n",
    "        print(\"The goblin attacks with a {}\".format(weapon))\n",
    "\n",
    "    def skill_check(skill):\n",
    "        print(\"The goblin rolls a {} check.\".format(skill))"
   ]
  },
  {
   "cell_type": "markdown",
   "id": "3c3db70c-74bc-44cf-884c-7204aeb7fa44",
   "metadata": {
    "jupyter": {
     "source_hidden": true
    },
    "tags": []
   },
   "source": [
    "So... if this seems pretty involved, don't worry as there's a lot going on. This also adheres to the other S.O.L.I.D. principles, which I'll get into later. For now, what you need to take away from this is that there are separate classes that handle the actions (Move, Attack and Skill Check respectively), but then there's a Goblin class that handles everything that a Goblin can do.\n",
    "\n",
    "Note that having a Goblin class is different from the goblin method from earlier as the goblin method would perform all three actions every time you ran the method - here the Goblin class can do any of those actions, but having an instance of a Goblin class doesn't mean you'll do all three actions at once.\n",
    "\n",
    "Regardless, I've made the classes so that they're in charge of one thing and one thing alone, which is the "
   ]
  },
  {
   "cell_type": "markdown",
   "id": "e9240a59-dbb2-4dae-80d3-737ac2bc20ff",
   "metadata": {
    "jp-MarkdownHeadingCollapsed": true,
    "tags": []
   },
   "source": [
    "## Open-Closed Principle\n",
    "> Objects or entities should be open for extension but closed for modification.\n",
    "\n",
    "So what this means is that if you decided to add anything to your code, you wouldn't have to modify existing code. I think this is best explained with an example. Remember this piece of code from before?"
   ]
  },
  {
   "cell_type": "code",
   "execution_count": 1,
   "id": "39f25410-fa7e-44ba-9935-4ced6eb62709",
   "metadata": {},
   "outputs": [],
   "source": [
    "def move(distance):\n",
    "    print(\"The goblin moves {} feet\".format(distance))\n",
    "    \n",
    "def attack(weapon):\n",
    "    print(\"The goblin attacks with a {}\".format(weapon))\n",
    "    \n",
    "def skill_check(skill):\n",
    "    print(\"The goblin rolls a {} check.\".format(skill))\n",
    "\n",
    "def goblin(distance, weapon, skill):\n",
    "    # Move\n",
    "    move(distance)\n",
    "    \n",
    "    # Attack\n",
    "    attack(weapon)\n",
    "    \n",
    "    # Skill check\n",
    "    skill_check(skill)"
   ]
  },
  {
   "cell_type": "markdown",
   "id": "0c123a6d-6605-4dce-8fad-d9ee2a484cc0",
   "metadata": {},
   "source": [
    "Suppose I wanted to let goblins to have the ability to sneak around. That's a very goblin thing to do, right? So let's add this new method `sneak` to the goblin method:"
   ]
  },
  {
   "cell_type": "code",
   "execution_count": null,
   "id": "15674d9b-b415-4288-935d-6ab22ee145c2",
   "metadata": {},
   "outputs": [],
   "source": [
    "def sneak():\n",
    "    print(\"The goblin has entered stealth!\")\n",
    "\n",
    "def goblin(distance, weapon, skill):\n",
    "    # Move\n",
    "    move(distance)\n",
    "    \n",
    "    # Attack\n",
    "    attack(weapon)\n",
    "    \n",
    "    # Skill check\n",
    "    skill_check(skill)\n",
    "    \n",
    "    # Sneak\n",
    "    sneak()"
   ]
  },
  {
   "cell_type": "markdown",
   "id": "f77ab66e-478c-46e2-bdb0-2cfaf6486fbc",
   "metadata": {},
   "source": [
    "So at first glance it might look like we've stayed true to the Open-Closed Principle. All we did was add the sneak method, right?\n",
    "\n",
    "Well it's true that we did add the sneak method... but we did so at the cost of modifying the goblin method. To explain why this is important, let me illustrate an example - suppose we had a campaign for level 1 adventurers that utilized the `goblin` method that was balanced around goblins not being able to sneak. Let's say this campaign was in a file called `level_1_campaign.py`. Great.\n",
    "\n",
    "But then suppose that we made a campaign for level 3 adventurers that _was_ balanced around goblins being able to sneak - if we add the `sneak` method to the `goblin` method, then those goblins in `level_1_campaign.py` would be able to sneak and we'd have to tweak the balance of that campaign again! \n",
    "\n",
    "Whereas if we consider our Goblin class from before and do this:"
   ]
  },
  {
   "cell_type": "code",
   "execution_count": null,
   "id": "76a646e6-7af0-4a56-9fd5-464b27a032b9",
   "metadata": {},
   "outputs": [],
   "source": [
    "class Sneak(ABC):\n",
    "    @abstractmethod\n",
    "    def sneak():\n",
    "        print(\"Entering stealth!\")\n",
    "\n",
    "class Goblin(Move, Attack, SkillCheck, Sneak):\n",
    "    def move(distance):\n",
    "        print(\"The goblin moves {} feet\".format(distance))\n",
    "    \n",
    "    def attack(weapon):\n",
    "        print(\"The goblin attacks with a {}\".format(weapon))\n",
    "\n",
    "    def skill_check(skill):\n",
    "        print(\"The goblin rolls a {} check.\".format(skill))\n",
    "        \n",
    "    def sneak():\n",
    "        print(\"The goblin has entered stealth!\")"
   ]
  },
  {
   "cell_type": "markdown",
   "id": "76a4c12c-049c-4675-93a5-ed89c62887cd",
   "metadata": {},
   "source": [
    "This is much better, because here we're just _adding_ a method to the Goblin class, and not modifying it. How do we know this? Because if we used the Goblin Class for `level_1_campaign.py`, it would still function the same regardless if we used it for a `level_3_campaign.py` or what have you. By adding additional functionality to the Goblin class (in this case, the addition of the sneak method), we haven't changed how it would behave elsewhere - this was a simple addition.\n",
    "\n",
    "Alright onto the next principle!"
   ]
  },
  {
   "cell_type": "markdown",
   "id": "b4a65f1e-6ade-437d-9e1b-17e592363a61",
   "metadata": {
    "jp-MarkdownHeadingCollapsed": true,
    "tags": []
   },
   "source": [
    "## Liskov Substitution Principle\n",
    "> Functions that use pointers or references to base classes must be able to use objects of derived classes without knowing it.\n",
    "\n",
    "This one is a bit more obtuse, but this is say that if you have a superclass that defines a function, and then you have a child class that uses that same function then you should be able to replace the function in the superclass with that from the child class and nothing should break.\n",
    "\n",
    "That... probabaly still sounds confusing so let's use an example. A Dungeons and Dragons example!"
   ]
  },
  {
   "cell_type": "code",
   "execution_count": null,
   "id": "bf3a8fbd-576c-4a1c-8829-cff99e31f2e5",
   "metadata": {},
   "outputs": [],
   "source": [
    "from abc import ABC, abstractmethod\n",
    "\n",
    "class Spellcaster(ABC):\n",
    "    @abstractmethod\n",
    "    def prepare_spells(self):\n",
    "        print(\"Spells have prepared\")\n",
    "              \n",
    "class Cleric(Spellcaster):\n",
    "    def prepare_spells(self):\n",
    "        print(\"Cleric spells have been prepared\")\n",
    "        \n",
    "class Wizard(Spellcaster):\n",
    "    def prepare_spells(self):\n",
    "        print(\"Wizard spells have been prepared\")"
   ]
  },
  {
   "cell_type": "markdown",
   "id": "6795ff53-bd02-4050-bbaf-c24837bf80e1",
   "metadata": {},
   "source": [
    "Okay so... what's happening here?\n",
    "\n",
    "We have the base class, `Spellcaster`, which can prepare spells. Spellcasters in Dungeons and Dragons can prepare their spells so this makes sense. If we call the `prepare_spells` method, we'd expect our spells to be prepared. \n",
    "\n",
    "But then we have two subclasses of `Spellcaster`, `Cleric` and `Wizard`. In Dungeons and Dragons, Clerics and Wizards are spellcasters and both can - you guessed it - prepare spells. \n",
    "\n",
    "This is where the Liskov Substitution Principle comes in - if we substituted the `prepare_spells` method in the `Spellcaster` class with one of the `prepare_spells` method from either the `Cleric` or `Wizard` class, we'd expect it to have the same functionality. That is, it'd prepare our spells. \n",
    "\n",
    "Note that the method we \"substitute\" doesn't have to be identical - in this case we're either preparing Cleric spells or Wizard spells. However, when the user calls `prepare_spells` they would expect the Spellcaster's spells to get prepared, which is what happens in all three cases.\n",
    "\n",
    "This, in a nutshell, is the Liskov Substitution Principle."
   ]
  },
  {
   "cell_type": "markdown",
   "id": "9334e0d4-8a5d-4cfa-a03c-94b6697937a8",
   "metadata": {
    "jp-MarkdownHeadingCollapsed": true,
    "tags": []
   },
   "source": [
    "## Interface Segregation Principle\n",
    "> Many client-specific interfaces are better than one general-purpose interface.\n",
    "\n",
    "What this is more or less saying is that it's better to have specialized code for a specific function, than to have generalized code that fills many roles. This is probably better explained with a coding example, so let's get to it."
   ]
  },
  {
   "cell_type": "code",
   "execution_count": null,
   "id": "99403a6b-0d35-493e-8a78-6d8faa04d78c",
   "metadata": {},
   "outputs": [],
   "source": [
    "from abc import ABC, abstractmethod\n",
    "\n",
    "class PlayerCharacter(ABC):\n",
    "    @abstractmethod\n",
    "    def rage(self):\n",
    "        print(\"Player character has gone into a rage!\")\n",
    "        \n",
    "    @abstractmethod\n",
    "    def sneak_attack(self):\n",
    "        print(\"Player character performs a sneak attack!\")\n",
    "        \n",
    "    @abstractmethod\n",
    "    def divine_smite(self):\n",
    "        print(\"Player character smites something!\")\n",
    "        \n",
    "class Barbarian(PlayerCharacter):\n",
    "    def rage(self):\n",
    "        print(\"The Barbarian has gone into a rage!\")\n",
    "        \n",
    "class Rogue(PlayerCharacter):\n",
    "    def sneak_attack(self):\n",
    "        print(\"The Rogue has performed a sneak attack!\")"
   ]
  },
  {
   "cell_type": "markdown",
   "id": "8663c871-a4c5-40c1-a278-3dadb3e80d66",
   "metadata": {},
   "source": [
    "So at first glance this might seem okay. After all, the Barbarian class can go into a rage, and the Rogue class can do a sneak attack. That's good, right?\n",
    "\n",
    "Yes. But that's not the problem. With how inheritance works, Barbarians can _also_ divine smite and sneak attack AND Rogues can sneak attack and rage! Ack! (In case it wasn't clear, in Dungeons and Dragon these classes can't do _all_ of those things.)\n",
    "\n",
    "This happens because we define all of these methods in the Player Character class and then inherit from it. So what we should do is reorganize this so that Barbarians and Rogues can only do what we expect them to do, and nothing else. Maybe something like this:"
   ]
  },
  {
   "cell_type": "code",
   "execution_count": null,
   "id": "c8c965e1-9899-4529-a71e-92a3d3976919",
   "metadata": {},
   "outputs": [],
   "source": [
    "from abc import ABC, abstractmethod\n",
    "\n",
    "class BarbarianActions(ABC):\n",
    "    @abstractmethod\n",
    "    def rage(self):\n",
    "        print(\"Barbarians can RAGE!\")\n",
    "        \n",
    "class RogueActions(ABC):\n",
    "    @abstractmethod\n",
    "    def sneak_attack(self):\n",
    "        print(\"Rogues can sneak attack!\")\n",
    "        \n",
    "class Barbarian(BarbarianActions):\n",
    "    def rage(self):\n",
    "        print(\"The Barbarian has gone into a rage!\")\n",
    "        \n",
    "class Rogue(RogueActions):\n",
    "    def sneak_attack(self):\n",
    "        print(\"The Rogue has performed a sneak attack!\")\n",
    "        \n",
    "class BarbarianRogue(BarbarianActions, RogueActions):\n",
    "    def rage(self):\n",
    "        print(\"The Barbarian Rogue has gone into a rage!\")\n",
    "        \n",
    "    def sneak_attack(self):\n",
    "        print(\"The Barbarian Rogue has performed a sneak attack!\")"
   ]
  },
  {
   "cell_type": "markdown",
   "id": "bd7a86a2-aac2-4c5c-90da-a7eeb43d0ba1",
   "metadata": {},
   "source": [
    "This is much better. The classes only inherit what they need and nothing else - and this is the essence of the Interface Segregation Principle. This helps keep our classes (and by extension, code) clean. People familiar with Dungeons and Dragons may have noted that it's possible to \"multiclass\" and to take levels in both Barbarian and Rogue - that is, to have a character who is trained as both a Barbarian and a Rogue and can therefore do _both_ of what a Rogue and Barbarian can do.\n",
    "\n",
    "The BarbarianRogue class accounts for this, but in keeping with the Interface Segregation Principle, it only inherits what it needs (that is, the BarbarianActions and RogueActions)."
   ]
  },
  {
   "cell_type": "markdown",
   "id": "70129f3b-bf0b-4567-a0a3-eb9f66252b2d",
   "metadata": {
    "jp-MarkdownHeadingCollapsed": true,
    "tags": []
   },
   "source": [
    "## Dependency Inversion Principle\n",
    "> Depend upon abstractions, not concretions (specifics).\n",
    "\n",
    "Put differently, the Dependency Inversion Principle states that high level modules should not rely on specific, low level modules. That is, code shouldn't rely on specific instances of classes and should instead rely on abstractions.\n",
    "\n",
    "I probably didn't do a great job explaining myself so let us use a code example - consider this piece of code:"
   ]
  },
  {
   "cell_type": "code",
   "execution_count": null,
   "id": "0038160f-5174-466a-8bd2-fdfcc172d6c1",
   "metadata": {},
   "outputs": [],
   "source": [
    "def raise_dead():\n",
    "    skeleton = Skeleton()\n",
    "    skeleton.raise()\n",
    "\n",
    "raise_dead()"
   ]
  },
  {
   "cell_type": "markdown",
   "id": "b1b1bab5-6c93-4999-b0a2-5353f14d7d3f",
   "metadata": {},
   "source": [
    "So here we have this handy, dandy `raise_dead` method that our fellow necromancers can use to animate dead with their necromancy. We just call `raise_dead` and then BAM! We can raise a skeleton from the dead. \n",
    "\n",
    "But hey wait a minute, can't necromancers also raise zombies from the dead? Shouldn't we change the method to account for this? We might be tempted to do something like this:"
   ]
  },
  {
   "cell_type": "code",
   "execution_count": null,
   "id": "344f280c-e6c7-48d5-a1e0-7006cd8c4bf5",
   "metadata": {},
   "outputs": [],
   "source": [
    "def raise_dead(undead):\n",
    "    if undead == \"skeleton\":\n",
    "        skeleton = Skeleton()\n",
    "        skeleton.raise()\n",
    "    if undead == \"zombie\":\n",
    "        zombie = Zombie()\n",
    "        zombie.raise()\n",
    "\n",
    "raise_dead(\"zombie\")"
   ]
  },
  {
   "cell_type": "markdown",
   "id": "3e9b502c-e806-44bf-b320-0e8163abcb03",
   "metadata": {},
   "source": [
    "So while this \"works\", this isn't ideal - we actually end up violating a number of S.O.L.I.D. principles doing this. For one, we've violated the Open-Closed principle as by adding a check for \"zombie\" we've modified the original `raise_dead` method. We've also violated the Interface Segregation Principle as well, as we're putting a bunch of functionality in `raise_dead` that might not always be used. (E.G., if we're only interested in raising skeletons, then the \"zombie\" code never gets used.) And finally, we've also violated the Single-Responsibility Principle as we're making `raise_dead` be responsible for raising several types of undead.\n",
    "\n",
    "Okay so... this obviously isn't great. But how can we fix this?\n",
    "\n",
    "Like so - see the below code:"
   ]
  },
  {
   "cell_type": "code",
   "execution_count": null,
   "id": "c7952b55-d314-45b2-a945-8ceafded3517",
   "metadata": {},
   "outputs": [],
   "source": [
    "from abc import ABC, abstractmethod\n",
    "\n",
    "class RaisableUndead(ABC):\n",
    "    @abstractmethod\n",
    "    def animate(self):\n",
    "        print(\"Undead has been raised!\")\n",
    "\n",
    "def raise_dead(undead:RaisableUndead):\n",
    "    undead.animate()"
   ]
  },
  {
   "cell_type": "markdown",
   "id": "30883ea5-c45d-441d-8dc7-c03ddc0e6e9f",
   "metadata": {},
   "source": [
    "This is great, because now we've abstracted the class out, and now `raise_dead` will work with any undead that can be animated. Dungeons and Dragons fun fact - not all undead can be animated! One does not raise a lich or a vampire (usually...) from the dead!\n",
    "\n",
    "Anyways - let's flesh this out with a couple of examples. Let's consider the zombie and the skeleton from before:"
   ]
  },
  {
   "cell_type": "code",
   "execution_count": null,
   "id": "880cdfa8-1fb1-4327-99bc-36e46440cbe9",
   "metadata": {},
   "outputs": [],
   "source": [
    "from abc import ABC, abstractmethod\n",
    "\n",
    "class RaisableUndead(ABC):\n",
    "    @abstractmethod\n",
    "    def animate(self):\n",
    "        print(\"Undead has been raised!\")\n",
    "\n",
    "class Skeleton(RaisableUndead):\n",
    "    def animate(self):\n",
    "        print(\"Skeleton has been raised from the dead!\")\n",
    "        \n",
    "class Zombie(RaisableUndead):\n",
    "    def animate(self):\n",
    "        print(\"Zombie has been raised from the dead!\")\n",
    "        \n",
    "def raise_dead(undead:RaisableUndead):\n",
    "    undead.animate()\n",
    "    \n",
    "zombie = Zombie()\n",
    "skeleton = Skeleton()\n",
    "raise_dead(zombie)\n",
    "raise_dead(skeleton)"
   ]
  },
  {
   "cell_type": "markdown",
   "id": "72a87b3c-76a6-4884-82d1-2af96eee7e10",
   "metadata": {},
   "source": [
    "Excellent! And to further drive this point home, we can easily add another class of undead to this and not need ot change the functionality of the `raise_dead` method! Like so:"
   ]
  },
  {
   "cell_type": "code",
   "execution_count": null,
   "id": "bc799935-c665-4430-81d2-06c650f478bd",
   "metadata": {},
   "outputs": [],
   "source": [
    "class Wight(RaisableUndead):\n",
    "    def animate(self):\n",
    "        print(\"Wight has been raised from the dead!\")\n",
    "        \n",
    "def raise_dead(undead:RaisableUndead):\n",
    "    undead.animate()\n",
    "    \n",
    "wight = Wight()\n",
    "raise_dead(wight)"
   ]
  },
  {
   "cell_type": "markdown",
   "id": "8ba8e294-1e5d-4a92-84e8-ab413f13988c",
   "metadata": {},
   "source": [
    "And these have been the S.O.L.I.D. Principles! Hopefully you found them useful."
   ]
  }
 ],
 "metadata": {
  "kernelspec": {
   "display_name": "Python 3 (ipykernel)",
   "language": "python",
   "name": "python3"
  },
  "language_info": {
   "codemirror_mode": {
    "name": "ipython",
    "version": 3
   },
   "file_extension": ".py",
   "mimetype": "text/x-python",
   "name": "python",
   "nbconvert_exporter": "python",
   "pygments_lexer": "ipython3",
   "version": "3.9.1"
  }
 },
 "nbformat": 4,
 "nbformat_minor": 5
}
