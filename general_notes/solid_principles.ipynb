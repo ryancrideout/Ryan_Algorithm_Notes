{
 "cells": [
  {
   "cell_type": "markdown",
   "id": "8aa5e85a-b487-4ca4-8c7e-ccd0434c9cd9",
   "metadata": {},
   "source": [
    "# S.O.L.I.D. Programming with Dungeons and Dragons examples\n",
    "\n",
    "This Jupyter notebook is an explanation of the S.O.L.I.D. programming principles, using Dungeons and Dragons to assist with the explanations. So with this in mind, what even ARE the S.O.L.I.D. programming principles?\n",
    "\n",
    "They are:\n",
    "\n",
    "### - Single-Responsiblity Principle\n",
    "### - Open-Closed Principle\n",
    "### - Liskov Substitution Principle\n",
    "### - Interface Segregation Principle\n",
    "### - Dependency Inversion Principle\n",
    "\n",
    "Adhering to these principles will help us write BETTER code... hopefully. Anyways let's get into this."
   ]
  },
  {
   "cell_type": "markdown",
   "id": "5d62a4be-03d2-4a59-8a71-bd64e85c642c",
   "metadata": {},
   "source": [
    "## Single-Responsiblity Principle\n",
    "> A class should have one and only one reason to change, meaning that a class should have only one job.\n",
    "\n",
    "Put in other words, this means that each piece of code - whether it be a function, class, whatever - should only have one job and one job only. Let's illustrate this with a Dungeons and Dragons code example.\n",
    "\n",
    "Consider this Goblin method:"
   ]
  },
  {
   "cell_type": "code",
   "execution_count": 1,
   "id": "1bf9f879-97a5-4cca-ac01-2bc61aa7b28e",
   "metadata": {},
   "outputs": [],
   "source": [
    "def goblin(distance, weapon, skill):\n",
    "    # Move\n",
    "    print(\"The goblin moves {} feet\".format(distance))\n",
    "    \n",
    "    # Attack\n",
    "    print(\"The goblin attacks with a {}\".format(weapon))\n",
    "    \n",
    "    # Skill check\n",
    "    print(\"The goblin rolls a {} check.\".format(skill))"
   ]
  },
  {
   "cell_type": "markdown",
   "id": "9280a445-3d40-4396-a8bd-041452d21f02",
   "metadata": {},
   "source": [
    "So at a glance this is a list of (some) things a goblin can do. The problem with this method though is that this goblin method is responsible for movement, attacking and making skill checks. That's three things! This violates the Single-Responsibility Principle - code is supposed to be responsible for one thing, not three!\n",
    "\n",
    "Let's change this into something better."
   ]
  },
  {
   "cell_type": "code",
   "execution_count": null,
   "id": "91e9371f-e18c-43e6-bf6b-477fdfafe5b2",
   "metadata": {},
   "outputs": [],
   "source": [
    "def move(distance):\n",
    "    print(\"The goblin moves {} feet\".format(distance))\n",
    "    \n",
    "def attack(weapon):\n",
    "    print(\"The goblin attacks with a {}\".format(weapon))\n",
    "    \n",
    "def skill_check(skill):\n",
    "    print(\"The goblin rolls a {} check.\".format(skill))\n",
    "\n",
    "def goblin(distance, weapon, skill):\n",
    "    # Move\n",
    "    move(distance)\n",
    "    \n",
    "    # Attack\n",
    "    attack(weapon)\n",
    "    \n",
    "    # Skill check\n",
    "    skill_check(skill)"
   ]
  },
  {
   "cell_type": "markdown",
   "id": "77c747db-a443-4832-a4e9-53b2e88aa171",
   "metadata": {},
   "source": [
    "Okay so this is better, as we've taken all of these actions out of the goblin method and given them their own functions. However, keen readers will note that we really haven't solved the problem - the goblin method is still responsible for _calling_ all of these methods, which still ends up violating the Single-Responsibility principle. \n",
    "\n",
    "Okay so... how would you about solving this FOR REAL? \n",
    "\n",
    "Here's what I might try:"
   ]
  },
  {
   "cell_type": "code",
   "execution_count": null,
   "id": "57002dbd-e7b1-49bb-9a6b-61cee94b0c95",
   "metadata": {},
   "outputs": [],
   "source": [
    "from abc import ABC, abstractmethod\n",
    "\n",
    "class Move(ABC):\n",
    "    @abstractmethod\n",
    "    def move(distance):\n",
    "        print(\"Move {} feet\".format(distance))\n",
    "\n",
    "class Attack(ABC):\n",
    "    @abstractmethod\n",
    "    def attack(weapon):\n",
    "        print(\"Attack with a {}\".format(weapon))\n",
    "        \n",
    "class SkillCheck(ABC):\n",
    "    @abstractmethod\n",
    "    def skill_check(skill):\n",
    "        print(\"Roll a {} check\".format(skill))\n",
    "\n",
    "class Goblin(Move, Attack, SkillCheck):\n",
    "    def move(distance):\n",
    "        print(\"The goblin moves {} feet\".format(distance))\n",
    "    \n",
    "    def attack(weapon):\n",
    "        print(\"The goblin attacks with a {}\".format(weapon))\n",
    "\n",
    "    def skill_check(skill):\n",
    "        print(\"The goblin rolls a {} check.\".format(skill))"
   ]
  },
  {
   "cell_type": "markdown",
   "id": "3c3db70c-74bc-44cf-884c-7204aeb7fa44",
   "metadata": {},
   "source": [
    "So... if this seems pretty involved, don't worry as there's a lot going on. This also adheres to the other S.O.L.I.D. principles, which I'll get into later. For now, what you need to take away from this is that there are separate classes that handle the actions (Move, Attack and Skill Check respectively), but then there's a Goblin class that handles everything that a Goblin can do.\n",
    "\n",
    "Note that having a Goblin class is different from the goblin method from earlier as the goblin method would perform all three actions every time you ran the method - here the Goblin class can do any of those actions, but having an instance of a Goblin class doesn't mean you'll do all three actions at once.\n",
    "\n",
    "Regardless, I've made the classes so that they're in charge of one thing and one thing alone, which is the "
   ]
  },
  {
   "cell_type": "markdown",
   "id": "e9240a59-dbb2-4dae-80d3-737ac2bc20ff",
   "metadata": {},
   "source": [
    "## Open-Closed Principle\n",
    "> Objects or entities should be open for extension but closed for modification."
   ]
  },
  {
   "cell_type": "markdown",
   "id": "b4a65f1e-6ade-437d-9e1b-17e592363a61",
   "metadata": {},
   "source": [
    "## Liskov Substitution Principle\n",
    "> Functions that use pointers or references to base classes must be able to use objects of derived classes without knowing it."
   ]
  },
  {
   "cell_type": "markdown",
   "id": "9334e0d4-8a5d-4cfa-a03c-94b6697937a8",
   "metadata": {},
   "source": [
    "## Interface Segregation Principle\n",
    "> Many client-specific interfaces are better than one general-purpose interface."
   ]
  },
  {
   "cell_type": "markdown",
   "id": "70129f3b-bf0b-4567-a0a3-eb9f66252b2d",
   "metadata": {},
   "source": [
    "## Dependency Inversion Principle\n",
    "> Depend upon abstractions, not concretions (specifics)."
   ]
  },
  {
   "cell_type": "code",
   "execution_count": null,
   "id": "0038160f-5174-466a-8bd2-fdfcc172d6c1",
   "metadata": {},
   "outputs": [],
   "source": []
  }
 ],
 "metadata": {
  "kernelspec": {
   "display_name": "Python 3 (ipykernel)",
   "language": "python",
   "name": "python3"
  },
  "language_info": {
   "codemirror_mode": {
    "name": "ipython",
    "version": 3
   },
   "file_extension": ".py",
   "mimetype": "text/x-python",
   "name": "python",
   "nbconvert_exporter": "python",
   "pygments_lexer": "ipython3",
   "version": "3.9.1"
  }
 },
 "nbformat": 4,
 "nbformat_minor": 5
}
