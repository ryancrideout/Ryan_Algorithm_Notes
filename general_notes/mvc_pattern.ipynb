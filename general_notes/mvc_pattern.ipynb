{
 "cells": [
  {
   "cell_type": "markdown",
   "id": "cd08e4e4-cf08-486a-a83e-15be822dea85",
   "metadata": {},
   "source": [
    "# What is the MVC Pattern?"
   ]
  },
  {
   "cell_type": "markdown",
   "id": "a1554b3d-af92-40af-a0ef-73c473398a9a",
   "metadata": {},
   "source": [
    "The MVC Pattern, known as \"Model, View, Controller\" Pattern, is a software architectural pattern, commonly used for developing user interfaces that divide the related program logic into three interconnected element. This is primarily used to make a distinction of how data is handled on the back end versus how data is presented to the user. In other words, MVC is about _efficiently relating_ the user interface to underlying data models and making the application code relate to this.\n",
    "\n",
    "The MVC Pattern is traditionally used \"Graphical User Interfaces\" (GUIs) and this pattern became popular for designing web applications."
   ]
  },
  {
   "cell_type": "markdown",
   "id": "345792e4-fc3c-4876-bf8e-d8613eccde7c",
   "metadata": {},
   "source": [
    "## Model"
   ]
  },
  {
   "cell_type": "markdown",
   "id": "877c0fd4-5292-4bb2-aa27-dbcfc1461e70",
   "metadata": {},
   "source": [
    "This is the model, object, database, etc. that is carrying data. Note that the Model can have logic to update it's own data, by typically Models are ignorant from one another and don't contain logic to manipulate data and/or talk to other Models.\n",
    "\n",
    "In short, Models represent data and defines the storage of all of the application's data objects."
   ]
  },
  {
   "cell_type": "markdown",
   "id": "300ce717-1eb8-46d9-a556-a90f4ee6849f",
   "metadata": {},
   "source": [
    "## View"
   ]
  },
  {
   "cell_type": "markdown",
   "id": "3207d975-2e7d-4078-87bc-b181c725f1b0",
   "metadata": {},
   "source": [
    "Views are essentially the visualizations of the data that models might contain. So for example, if you were on a website and queried some data, the webpage that is client facing would be the view. Also note that these visualizations of data may be charts, diagrams, tables, or something else. In simple terms, the \"View\" deals with displaying the actual output to the user."
   ]
  },
  {
   "cell_type": "markdown",
   "id": "09e2621b-79a5-4413-adcf-b1cf26338dbe",
   "metadata": {},
   "source": [
    "## Controller"
   ]
  },
  {
   "cell_type": "markdown",
   "id": "79bdda94-e373-45f7-92e2-fc7a179fda62",
   "metadata": {},
   "source": [
    "This is the intermediary between the View and the Model. The controller is responsible for feeding data to the View, munging/manipulating data that is handed to it, and issuing commands to the Model. It keeps the Model and the View separate, and defines the interactions between them. \n",
    "\n",
    "It might be helpful to consider the \"Controller\" as the brain of the MVC system - really it's a link between the user (which is what the View deals with) and the system (which is what the Model deals with)."
   ]
  },
  {
   "cell_type": "markdown",
   "id": "7be25efb-9a53-428b-8b97-b903cf79843e",
   "metadata": {},
   "source": [
    "## Closing Thoughts"
   ]
  },
  {
   "cell_type": "markdown",
   "id": "737888c6-12b1-4b38-a594-f1352c4cb6cc",
   "metadata": {},
   "source": [
    "The MVC pattern can vary significantly from what is described here - this is only a traditional description of it. As such, the MVC pattern can be adapted for different systems."
   ]
  },
  {
   "cell_type": "markdown",
   "id": "a81bc6e1-de91-4729-a24f-600e0335ad76",
   "metadata": {},
   "source": [
    "## Additional Resources:"
   ]
  },
  {
   "cell_type": "markdown",
   "id": "cfbfce5a-70ea-448c-b8aa-6717f84a5d70",
   "metadata": {},
   "source": [
    "- [Wikipedia](https://en.wikipedia.org/wiki/Model%E2%80%93view%E2%80%93controller)\n",
    "- [Tutorialspoint](https://www.tutorialspoint.com/design_pattern/mvc_pattern.htm)\n",
    "- [Geeksforgeeks](https://www.geeksforgeeks.org/mvc-design-pattern/)\n",
    "- [Martin Fowler](https://martinfowler.com/eaaDev/uiArchs.html) - In-depth!"
   ]
  },
  {
   "cell_type": "code",
   "execution_count": null,
   "id": "f2d54e76-0e85-4f77-a152-c43e1abe5364",
   "metadata": {},
   "outputs": [],
   "source": []
  }
 ],
 "metadata": {
  "kernelspec": {
   "display_name": "Python 3 (ipykernel)",
   "language": "python",
   "name": "python3"
  },
  "language_info": {
   "codemirror_mode": {
    "name": "ipython",
    "version": 3
   },
   "file_extension": ".py",
   "mimetype": "text/x-python",
   "name": "python",
   "nbconvert_exporter": "python",
   "pygments_lexer": "ipython3",
   "version": "3.9.1"
  }
 },
 "nbformat": 4,
 "nbformat_minor": 5
}
