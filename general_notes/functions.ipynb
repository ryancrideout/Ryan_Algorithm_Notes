{
 "cells": [
  {
   "cell_type": "markdown",
   "id": "dd20b366-93bf-4bd0-acde-a993215977f8",
   "metadata": {},
   "source": [
    "# Functions"
   ]
  },
  {
   "cell_type": "markdown",
   "id": "8a5e7e53-3c08-4407-a637-bb97c3b2f397",
   "metadata": {},
   "source": [
    "A function is a block of code that runs when it's called - and you can pass in data (known as parameters) into a function. Functions can return data as well.\n",
    "\n",
    "Let's make a simple function as an example:"
   ]
  },
  {
   "cell_type": "code",
   "execution_count": 2,
   "id": "977648fd-3ed3-414e-b3d7-1c6be433ddd9",
   "metadata": {},
   "outputs": [
    {
     "name": "stdout",
     "output_type": "stream",
     "text": [
      "Hello, I regret to inform you that I love dogs.\n"
     ]
    }
   ],
   "source": [
    "# This defines the function\n",
    "def i_love_dogs():\n",
    "    print(\"Hello, I regret to inform you that I love dogs.\")\n",
    "    \n",
    "# And this executes the function\n",
    "i_love_dogs()"
   ]
  },
  {
   "cell_type": "markdown",
   "id": "f3b81acb-0d9a-4cb1-ba24-99984b371372",
   "metadata": {},
   "source": [
    "But functions can do more than just print statements - they can also handle logic, like so:"
   ]
  },
  {
   "cell_type": "code",
   "execution_count": 3,
   "id": "2ae66dca-a83b-4730-a78f-7418ee33c6d4",
   "metadata": {},
   "outputs": [
    {
     "name": "stdout",
     "output_type": "stream",
     "text": [
      "15\n"
     ]
    }
   ],
   "source": [
    "def add_numbers(a, b):\n",
    "    sum = a + b\n",
    "    \n",
    "    return sum\n",
    "\n",
    "# Now let's add some numbers together:\n",
    "c = add_numbers(10, 5)\n",
    "print(c)"
   ]
  },
  {
   "cell_type": "markdown",
   "id": "a621e91e-a2f2-420d-8ec0-d8a75049c614",
   "metadata": {},
   "source": [
    "And if you wanted to go further, you can do all sorts of things such as have nested functions, like so:"
   ]
  },
  {
   "cell_type": "code",
   "execution_count": 5,
   "id": "dfaff4e5-0702-4991-8c8e-bd040ca8edc7",
   "metadata": {},
   "outputs": [
    {
     "name": "stdout",
     "output_type": "stream",
     "text": [
      "I'm going to take the square of 4!\n",
      "It's 16!\n",
      "And for my next trick:\n",
      "I'm going to go and get my revenge against cars!\n"
     ]
    }
   ],
   "source": [
    "def swear_vengeance_against_cars():\n",
    "    print(\"I'm going to go and get my revenge against cars!\")\n",
    "    \n",
    "def square_number(n):\n",
    "    return n ** 2\n",
    "\n",
    "def main():\n",
    "    print(\"I'm going to take the square of 4!\")\n",
    "    result =  square_number(4)\n",
    "    print(f\"It's {result}!\")\n",
    "    \n",
    "    print(\"And for my next trick:\")\n",
    "    swear_vengeance_against_cars()\n",
    "    \n",
    "main()"
   ]
  },
  {
   "cell_type": "markdown",
   "id": "0a2bef86-c0ba-4b64-a90d-2cf3e157ce00",
   "metadata": {},
   "source": [
    "Again, the point of functions is that you can run ANY piece of code in them. They're just \"blocks\" of code, so anything you can think to do in \"regular\" code you can do in a function."
   ]
  },
  {
   "cell_type": "markdown",
   "id": "58cab5f4-2178-40dc-8160-517d8d7bfa34",
   "metadata": {},
   "source": [
    "## Best Practices of Functions"
   ]
  },
  {
   "cell_type": "markdown",
   "id": "1f2edbff-a4a1-4807-91f5-34e5a65a5a6c",
   "metadata": {},
   "source": [
    "While it's one thing to use functions, it's another thing to use them well. While in general you want to consider the \"SOLID\" principles while programming (and they relate to functions), one easy thing to remember about functions is that they should do ONE thing.\n",
    "\n",
    "So let us consider this function:"
   ]
  },
  {
   "cell_type": "code",
   "execution_count": 6,
   "id": "b3815504-598b-4360-99f2-581fc6d6c9d9",
   "metadata": {},
   "outputs": [
    {
     "data": {
      "text/plain": [
       "36"
      ]
     },
     "execution_count": 6,
     "metadata": {},
     "output_type": "execute_result"
    }
   ],
   "source": [
    "def epic_function(a, b):\n",
    "    # Add numbers together.\n",
    "    c = a + b\n",
    "    \n",
    "    # Square the number\n",
    "    c = c ** 2\n",
    "    \n",
    "    return c\n",
    "\n",
    "epic_function(2, 4)"
   ]
  },
  {
   "cell_type": "markdown",
   "id": "4262224f-180e-4d53-aa88-11475ac1bed9",
   "metadata": {},
   "source": [
    "While a simple example, this function isn't great for two reasons - it does multiple things (namely, adding two number together and squaring the result) and the name isn't indicative of what it does. When someone thinks `epic_function`, I'm sure they're not thinking of adding two numbers together and squaring them.\n",
    "\n",
    "A better function name would be `add_values_and_square`, but that doesn't solve the first problem of doing multiple things in a function. (Technically with this example you could argue that the math is simple enough that we don't need to break it into separate functions). If we were to break this functions into smaller components, it'd look something like this:"
   ]
  },
  {
   "cell_type": "code",
   "execution_count": 7,
   "id": "a87f962c-d75b-4d42-aabc-164cbcded4fe",
   "metadata": {},
   "outputs": [
    {
     "data": {
      "text/plain": [
       "36"
      ]
     },
     "execution_count": 7,
     "metadata": {},
     "output_type": "execute_result"
    }
   ],
   "source": [
    "def add_numbers(a, b):\n",
    "    return a + b\n",
    "    \n",
    "def square_number(n):\n",
    "    return n ** 2\n",
    "\n",
    "# Then, if we were looking to run both methods, we might do something like this:\n",
    "def main():\n",
    "    c = add_numbers(2, 4)\n",
    "    c2 = square_number(c)\n",
    "    \n",
    "    return c2\n",
    "\n",
    "main()"
   ]
  },
  {
   "cell_type": "markdown",
   "id": "7761e21a-659f-48db-91ff-dd4704c56a8d",
   "metadata": {},
   "source": [
    "This is better as the function names provide a clear understanding of what they do, and they only do one thing. However, attentive readers may note that now we have `main` doing two things - namely, adding the numbers and squaring them! And if you're familiar with the S.O.L.I.D. principals, you'll note that having a `main` function violates some of those principals!\n",
    "\n",
    "While this is all true, the main point I wanted to make is to make sure your function names are clear and concise, and that the functions don't try to do too much."
   ]
  },
  {
   "cell_type": "code",
   "execution_count": null,
   "id": "032e35d4-1f40-4643-9855-dc7283db5a95",
   "metadata": {},
   "outputs": [],
   "source": []
  }
 ],
 "metadata": {
  "kernelspec": {
   "display_name": "Python 3 (ipykernel)",
   "language": "python",
   "name": "python3"
  },
  "language_info": {
   "codemirror_mode": {
    "name": "ipython",
    "version": 3
   },
   "file_extension": ".py",
   "mimetype": "text/x-python",
   "name": "python",
   "nbconvert_exporter": "python",
   "pygments_lexer": "ipython3",
   "version": "3.9.1"
  }
 },
 "nbformat": 4,
 "nbformat_minor": 5
}
